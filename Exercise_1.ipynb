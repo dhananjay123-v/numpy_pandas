{
 "cells": [
  {
   "cell_type": "markdown",
   "id": "afb9c926-200d-49b1-8954-3c577e36850a",
   "metadata": {},
   "source": [
    "# a) Usage of math methods: floor(), ceil(), sqrt(), isqrt(), gcd()"
   ]
  },
  {
   "cell_type": "code",
   "execution_count": 2,
   "id": "cd7f9fc9-bf48-4ef5-bfd9-39b83ce02a4c",
   "metadata": {},
   "outputs": [
    {
     "name": "stdout",
     "output_type": "stream",
     "text": [
      "Floor: 10\n",
      "Ceil: 11\n",
      "Square Root: 5.0\n",
      "Integer Square Root: 5\n",
      "GCD of 25 and 15: 5\n"
     ]
    }
   ],
   "source": [
    "import math\n",
    "\n",
    "x = 10.75\n",
    "a = 25\n",
    "b=15\n",
    "print(\"Floor:\", math.floor(x))\n",
    "\n",
    "print(\"Ceil:\", math.ceil(x))\n",
    "\n",
    "print(\"Square Root:\", math.sqrt(a))\n",
    "\n",
    "print(\"Integer Square Root:\", math.isqrt(a))\n",
    "\n",
    "print(\"GCD of 25 and 15:\", math.gcd(a, b))\n"
   ]
  },
  {
   "cell_type": "markdown",
   "id": "214c6207-12ee-4e2c-b7ff-1c7b5ba04bfb",
   "metadata": {},
   "source": [
    "# b) Usage of NumPy array attributes and methods"
   ]
  },
  {
   "cell_type": "code",
   "execution_count": 3,
   "id": "4a3dea32-cc06-41f6-80b6-79e45fadd5e0",
   "metadata": {},
   "outputs": [
    {
     "name": "stdout",
     "output_type": "stream",
     "text": [
      "Array:\n",
      " [[1 2 3]\n",
      " [4 5 6]]\n",
      "Dimensions: 2\n",
      "Shape: (2, 3)\n",
      "Size: 6\n",
      "Sum: 21\n",
      "Mean: 3.5\n",
      "Sorted Array:\n",
      " [[1 2 3]\n",
      " [4 5 6]]\n",
      "Sine Values:\n",
      " [[ 0.84147098  0.90929743  0.14112001]\n",
      " [-0.7568025  -0.95892427 -0.2794155 ]]\n"
     ]
    }
   ],
   "source": [
    "import numpy as np\n",
    "\n",
    "arr = np.array([[1, 2, 3], [4, 5, 6]])\n",
    "print(\"Array:\\n\", arr)\n",
    "print(\"Dimensions:\", arr.ndim)\n",
    "\n",
    "print(\"Shape:\", arr.shape)\n",
    "\n",
    "print(\"Size:\", arr.size)\n",
    "\n",
    "print(\"Sum:\", arr.sum())\n",
    "\n",
    "print(\"Mean:\", arr.mean())\n",
    "\n",
    "print(\"Sorted Array:\\n\", np.sort(arr))\n",
    "\n",
    "print(\"Sine Values:\\n\", np.sin(arr))\n"
   ]
  },
  {
   "cell_type": "markdown",
   "id": "0addcbd0-908c-4d7d-9bb9-a4e4d30ed9d0",
   "metadata": {},
   "source": [
    "# c) Usage of numpy.linalg or scipy.linalg for det(), eig()"
   ]
  },
  {
   "cell_type": "code",
   "execution_count": 4,
   "id": "eb3f81ef-d637-4c66-b6aa-a8352b6bda03",
   "metadata": {},
   "outputs": [
    {
     "name": "stdout",
     "output_type": "stream",
     "text": [
      "Determinant: -2.0\n",
      "Eigenvalues: [ 5.37228132 -0.37228132]\n",
      "Eigenvectors:\n",
      " [[ 0.82456484 -0.41597356]\n",
      " [ 0.56576746  0.90937671]]\n"
     ]
    }
   ],
   "source": [
    "import numpy as np\n",
    "from numpy.linalg import det, eig\n",
    "\n",
    "matrix = np.array([[4, 2], [3, 1]])\n",
    "\n",
    "\n",
    "print(\"Determinant:\", det(matrix))\n",
    "\n",
    "\n",
    "eigenvalues, eigenvectors = eig(matrix)\n",
    "\n",
    "print(\"Eigenvalues:\", eigenvalues)\n",
    "print(\"Eigenvectors:\\n\", eigenvectors)\n"
   ]
  },
  {
   "cell_type": "markdown",
   "id": "fc8f4947-68e4-40b1-bfd6-827cc83f58e1",
   "metadata": {},
   "source": [
    "# d) Convert 1D list to 2D, 3D using numpy.reshape()"
   ]
  },
  {
   "cell_type": "code",
   "execution_count": 5,
   "id": "b64a8cc2-c3d4-48c1-b84d-dbce5f45e3c6",
   "metadata": {},
   "outputs": [
    {
     "name": "stdout",
     "output_type": "stream",
     "text": [
      "2D Array:\n",
      " [[1 2 3 4]\n",
      " [5 6 7 8]]\n",
      "3D Array:\n",
      " [[[1 2]\n",
      "  [3 4]]\n",
      "\n",
      " [[5 6]\n",
      "  [7 8]]]\n",
      "Zero Matrix:\n",
      " [[0. 0. 0.]\n",
      " [0. 0. 0.]]\n",
      "Identity Matrix:\n",
      " [[1. 0. 0.]\n",
      " [0. 1. 0.]\n",
      " [0. 0. 1.]]\n",
      "One Matrix:\n",
      " [[1. 1.]\n",
      " [1. 1.]\n",
      " [1. 1.]]\n"
     ]
    }
   ],
   "source": [
    "import numpy as np\n",
    "\n",
    "lst = [1, 2, 3, 4, 5, 6, 7, 8]\n",
    "\n",
    "arr = np.array(lst)\n",
    "\n",
    "arr_2d = arr.reshape(2, 4)\n",
    "print(\"2D Array:\\n\", arr_2d)\n",
    "\n",
    "\n",
    "arr_3d = arr.reshape(2, 2, 2)\n",
    "print(\"3D Array:\\n\", arr_3d)\n",
    "\n",
    "print(\"Zero Matrix:\\n\", np.zeros((2, 3)))\n",
    "print(\"Identity Matrix:\\n\", np.eye(3))\n",
    "print(\"One Matrix:\\n\", np.ones((3, 2)))\n"
   ]
  },
  {
   "cell_type": "markdown",
   "id": "46f06f26-acb4-41f2-894c-91eaa7959565",
   "metadata": {},
   "source": [
    "# f) Find Determinant using scipy.linalg"
   ]
  },
  {
   "cell_type": "code",
   "execution_count": 7,
   "id": "0cae1729-9fec-4173-9b35-fa6bd36c6fb2",
   "metadata": {},
   "outputs": [
    {
     "name": "stdout",
     "output_type": "stream",
     "text": [
      "Determinant (using SciPy): -9.000000000000004\n"
     ]
    }
   ],
   "source": [
    "import numpy as np\n",
    "from scipy.linalg import det as sp_det\n",
    "\n",
    "matrix = np.array([[5, 4], [6, 3]])\n",
    "print(\"Determinant (using SciPy):\", sp_det(matrix))\n"
   ]
  },
  {
   "cell_type": "markdown",
   "id": "61bfbc1b-eb1c-419c-945f-cfbaac84c0d4",
   "metadata": {},
   "source": [
    "# g) find EigenValues and EigenVector using scipy.linalg"
   ]
  },
  {
   "cell_type": "code",
   "execution_count": 9,
   "id": "0a938e00-fd68-426c-bc97-8c09a44002d2",
   "metadata": {},
   "outputs": [
    {
     "name": "stdout",
     "output_type": "stream",
     "text": [
      "Eigenvalues (SciPy): [2.5+0.8660254j 2.5-0.8660254j]\n",
      "Eigenvectors (SciPy):\n",
      " [[ 0.35355339-0.61237244j  0.35355339+0.61237244j]\n",
      " [-0.70710678+0.j         -0.70710678-0.j        ]]\n"
     ]
    }
   ],
   "source": [
    "from scipy.linalg import eig as sp_eig\n",
    "matrix = np.array([[2, -1], [1, 3]])\n",
    "eigenvalues, eigenvectors = sp_eig(matrix)\n",
    "print(\"Eigenvalues (SciPy):\", eigenvalues)\n",
    "print(\"Eigenvectors (SciPy):\\n\", eigenvectors)"
   ]
  },
  {
   "cell_type": "code",
   "execution_count": null,
   "id": "82eec49e-7521-402b-9c82-8ebad1802684",
   "metadata": {},
   "outputs": [],
   "source": []
  }
 ],
 "metadata": {
  "kernelspec": {
   "display_name": "Python 3 (ipykernel)",
   "language": "python",
   "name": "python3"
  },
  "language_info": {
   "codemirror_mode": {
    "name": "ipython",
    "version": 3
   },
   "file_extension": ".py",
   "mimetype": "text/x-python",
   "name": "python",
   "nbconvert_exporter": "python",
   "pygments_lexer": "ipython3",
   "version": "3.12.0"
  }
 },
 "nbformat": 4,
 "nbformat_minor": 5
}
