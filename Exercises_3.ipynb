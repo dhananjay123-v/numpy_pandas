{
 "cells": [
  {
   "cell_type": "markdown",
   "id": "10b0c028-192a-41fd-abf5-f18899b7d8f9",
   "metadata": {},
   "source": [
    "# a) Creation and Loading of Different Types of Datasets"
   ]
  },
  {
   "cell_type": "markdown",
   "id": "bc531451-58c7-4f76-aa0f-edf6efc6ba5d",
   "metadata": {},
   "source": [
    "## i. Creation using pandas"
   ]
  },
  {
   "cell_type": "code",
   "execution_count": 28,
   "id": "2a5b7343-d69b-40b3-b021-54ab15167f81",
   "metadata": {},
   "outputs": [
    {
     "name": "stdout",
     "output_type": "stream",
     "text": [
      "Created DataFrame:\n",
      "       Name       City  Age\n",
      "0    Alice      Delhi   25\n",
      "1      Bob     Mumbai   30\n",
      "2  Charlie  Bangalore   22\n",
      "3    David    Chennai   28\n"
     ]
    }
   ],
   "source": [
    "import pandas as pd\n",
    "\n",
    "data = {\n",
    "'Name': ['Alice', 'Bob', 'Charlie', 'David'], \n",
    "'City': ['Delhi', 'Mumbai', 'Bangalore', 'Chennai'],\n",
    "'Age': [25, 30, 22, 28],\n",
    "}\n",
    "df = pd.DataFrame(data) \n",
    "print(\"Created DataFrame:\\n\", df)"
   ]
  },
  {
   "cell_type": "markdown",
   "id": "88f745dc-a7cb-44be-a671-0e9a4cf27d6a",
   "metadata": {},
   "source": [
    "## ii. Loading CSV Dataset using pandas"
   ]
  },
  {
   "cell_type": "code",
   "execution_count": 29,
   "id": "944e0dee-7a45-4b91-9d67-53f2990a27e1",
   "metadata": {},
   "outputs": [
    {
     "name": "stdout",
     "output_type": "stream",
     "text": [
      "Loaded CSV DataFrame:\n",
      "       Name       City  Age\n",
      "0    Alice      Delhi   25\n",
      "1      Bob     Mumbai   30\n",
      "2  Charlie  Bangalore   22\n",
      "3    David    Chennai   28\n"
     ]
    }
   ],
   "source": [
    "df.to_csv(\"students.csv\", index=False)\n",
    "df_csv = pd.read_csv(\"students.csv\") \n",
    "print(\"Loaded CSV DataFrame:\\n\", df_csv)"
   ]
  },
  {
   "cell_type": "markdown",
   "id": "0464c30e-b091-4f7c-bc5f-57a3dea4ee58",
   "metadata": {},
   "source": [
    "## iii. Loading datasets using sklearn"
   ]
  },
  {
   "cell_type": "code",
   "execution_count": 30,
   "id": "27887ae9-205d-4a58-9a82-46bddaf3920b",
   "metadata": {},
   "outputs": [
    {
     "name": "stdout",
     "output_type": "stream",
     "text": [
      "Iris Dataset Head:\n",
      "    sepal length (cm)  sepal width (cm)  petal length (cm)  petal width (cm)  \\\n",
      "0                5.1               3.5                1.4               0.2   \n",
      "1                4.9               3.0                1.4               0.2   \n",
      "2                4.7               3.2                1.3               0.2   \n",
      "3                4.6               3.1                1.5               0.2   \n",
      "4                5.0               3.6                1.4               0.2   \n",
      "\n",
      "   target  \n",
      "0       0  \n",
      "1       0  \n",
      "2       0  \n",
      "3       0  \n",
      "4       0  \n"
     ]
    }
   ],
   "source": [
    "from sklearn import datasets \n",
    "import pandas as pd\n",
    "\n",
    "iris = datasets.load_iris()\n",
    "\n",
    "iris_df = pd.DataFrame(data=iris.data, columns=iris.feature_names)\n",
    "\n",
    "iris_df['target'] = iris.target\n",
    "\n",
    "print(\"Iris Dataset Head:\\n\", iris_df.head())\n"
   ]
  },
  {
   "cell_type": "markdown",
   "id": "5aca7887-2834-4ea8-bba2-a6b7dd77dfec",
   "metadata": {},
   "source": [
    "# b) Compute Mean, Median, Mode, Variance, Standard Deviation"
   ]
  },
  {
   "cell_type": "code",
   "execution_count": 31,
   "id": "6332f493-b319-458d-abf8-387d88dfb524",
   "metadata": {},
   "outputs": [
    {
     "name": "stdout",
     "output_type": "stream",
     "text": [
      "Mean: 33.333333333333336\n",
      "Median: 35.0\n",
      "Mode: 50\n",
      "Variance: 222.22222222222226\n",
      "Standard Deviation: 14.9071198499986\n"
     ]
    }
   ],
   "source": [
    "import numpy as np \n",
    "from scipy import stats\n",
    "\n",
    "sample_data = [10, 20, 30, 40, 50, 50]\n",
    "\n",
    "print(\"Mean:\", np.mean(sample_data))\n",
    "print(\"Median:\", np.median(sample_data))\n",
    "\n",
    "mode_result = stats.mode(sample_data, keepdims=True)\n",
    "print(\"Mode:\", mode_result.mode[0])\n",
    "\n",
    "print(\"Variance:\", np.var(sample_data))\n",
    "print(\"Standard Deviation:\", np.std(sample_data))\n"
   ]
  },
  {
   "cell_type": "markdown",
   "id": "cf3940df-bac0-4864-b00f-145e8222c510",
   "metadata": {},
   "source": [
    "# c) Data Preprocessing Techniques"
   ]
  },
  {
   "cell_type": "markdown",
   "id": "0daa49e8-5be8-46aa-b25a-ad05de7a9a82",
   "metadata": {},
   "source": [
    "## i. Reshaping the data"
   ]
  },
  {
   "cell_type": "code",
   "execution_count": 32,
   "id": "568b1732-3307-4784-b376-436ef4570006",
   "metadata": {},
   "outputs": [
    {
     "name": "stdout",
     "output_type": "stream",
     "text": [
      "Reshaped Data:\n",
      " [[1 2]\n",
      " [3 4]\n",
      " [5 6]]\n"
     ]
    }
   ],
   "source": [
    "import numpy as np\n",
    "arr=np.array([[1, 2, 3], [4, 5, 6]])\n",
    "reshaped = arr.reshape(3, 2)\n",
    "print(\"Reshaped Data:\\n\", reshaped)"
   ]
  },
  {
   "cell_type": "markdown",
   "id": "e3b0943a-2b7a-4ff7-884f-f138d12c4a7b",
   "metadata": {},
   "source": [
    "## ii.Filtering the data"
   ]
  },
  {
   "cell_type": "code",
   "execution_count": 33,
   "id": "b5c1b91e-99f0-4b27-b4fe-7004a32f7220",
   "metadata": {},
   "outputs": [
    {
     "name": "stdout",
     "output_type": "stream",
     "text": [
      "Filtered Data:\n",
      "     Name     City  Age\n",
      "1    Bob   Mumbai   30\n",
      "3  David  Chennai   28\n"
     ]
    }
   ],
   "source": [
    "filtered_df=df[df['Age'] > 25]\n",
    "print(\"Filtered Data:\\n\", filtered_df)"
   ]
  },
  {
   "cell_type": "markdown",
   "id": "4d6692e1-f5e9-4709-8bba-66165178edae",
   "metadata": {},
   "source": [
    "## iii. Merging the data"
   ]
  },
  {
   "cell_type": "code",
   "execution_count": 34,
   "id": "08081453-7d0f-4cea-92cb-affc0490bd9a",
   "metadata": {},
   "outputs": [
    {
     "name": "stdout",
     "output_type": "stream",
     "text": [
      "Merged DataFrame:\n",
      "     Name    City  Age  Score\n",
      "0  Alice   Delhi   25     85\n",
      "1    Bob  Mumbai   30     90\n"
     ]
    }
   ],
   "source": [
    "df_extra= pd.DataFrame({ 'Name': ['Alice', 'Bob'], 'Score': [85, 90]\n",
    "})\n",
    "merged_df = pd.merge(df, df_extra, on='Name')\n",
    "print(\"Merged DataFrame:\\n\", merged_df)"
   ]
  },
  {
   "cell_type": "markdown",
   "id": "6e0bcb54-e8f9-4c67-b7bd-cc62456897ed",
   "metadata": {},
   "source": [
    "## iv. Handling Missing Values"
   ]
  },
  {
   "cell_type": "code",
   "execution_count": 35,
   "id": "72ace7a9-3456-45ba-ac23-20581ce0cffa",
   "metadata": {},
   "outputs": [
    {
     "name": "stdout",
     "output_type": "stream",
     "text": [
      "Missing Values Handled:\n",
      "       Name  Marks\n",
      "0    Alice   85.0\n",
      "1      Bob   81.5\n",
      "2  Charlie   78.0\n"
     ]
    },
    {
     "name": "stderr",
     "output_type": "stream",
     "text": [
      "C:\\Users\\PC\\AppData\\Local\\Temp\\ipykernel_1480\\1616525663.py:10: FutureWarning: A value is trying to be set on a copy of a DataFrame or Series through chained assignment using an inplace method.\n",
      "The behavior will change in pandas 3.0. This inplace method will never work because the intermediate object on which we are setting values always behaves as a copy.\n",
      "\n",
      "For example, when doing 'df[col].method(value, inplace=True)', try using 'df.method({col: value}, inplace=True)' or df[col] = df[col].method(value) instead, to perform the operation inplace on the original object.\n",
      "\n",
      "\n",
      "  df_missing['Marks'].fillna(df_missing['Marks'].mean(), inplace=True)\n"
     ]
    }
   ],
   "source": [
    "import pandas as pd\n",
    "\n",
    "data_missing = {\n",
    "    'Name': ['Alice', 'Bob', 'Charlie'],\n",
    "    'Marks': [85, None, 78]\n",
    "}\n",
    "\n",
    "df_missing = pd.DataFrame(data_missing)\n",
    "\n",
    "df_missing['Marks'].fillna(df_missing['Marks'].mean(), inplace=True)\n",
    "\n",
    "print(\"Missing Values Handled:\\n\", df_missing)\n"
   ]
  },
  {
   "cell_type": "markdown",
   "id": "e1fcbbce-447f-4cbc-a872-1be5b3d4f9cd",
   "metadata": {},
   "source": [
    "## v. Feature Normalization: Min-Max Normalization"
   ]
  },
  {
   "cell_type": "code",
   "execution_count": 36,
   "id": "466ddf99-bbc9-4f7f-b556-75d763659277",
   "metadata": {},
   "outputs": [
    {
     "name": "stdout",
     "output_type": "stream",
     "text": [
      "Min-Max Normalization:\n",
      "    Marks  Normalized\n",
      "0     50        0.00\n",
      "1     60        0.25\n",
      "2     70        0.50\n",
      "3     80        0.75\n",
      "4     90        1.00\n"
     ]
    }
   ],
   "source": [
    "from sklearn.preprocessing import MinMaxScaler\n",
    "data = pd.DataFrame({'Marks': [50, 60, 70, 80, 90]}) \n",
    "scaler = MinMaxScaler()\n",
    "data['Normalized'] = scaler.fit_transform(data[['Marks']]) \n",
    "print(\"Min-Max Normalization:\\n\", data)"
   ]
  },
  {
   "cell_type": "code",
   "execution_count": null,
   "id": "040776ee-8e7d-451d-ba75-8c9b77ed6aa6",
   "metadata": {},
   "outputs": [],
   "source": []
  }
 ],
 "metadata": {
  "kernelspec": {
   "display_name": "Python 3 (ipykernel)",
   "language": "python",
   "name": "python3"
  },
  "language_info": {
   "codemirror_mode": {
    "name": "ipython",
    "version": 3
   },
   "file_extension": ".py",
   "mimetype": "text/x-python",
   "name": "python",
   "nbconvert_exporter": "python",
   "pygments_lexer": "ipython3",
   "version": "3.12.0"
  }
 },
 "nbformat": 4,
 "nbformat_minor": 5
}
